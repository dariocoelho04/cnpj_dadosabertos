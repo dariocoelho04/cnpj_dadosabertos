{
 "cells": [
  {
   "cell_type": "markdown",
   "metadata": {},
   "source": [
    "### 1. Bibliotecas do Projeto"
   ]
  },
  {
   "cell_type": "code",
   "execution_count": 1,
   "metadata": {},
   "outputs": [],
   "source": [
    "import os\n",
    "import zipfile\n",
    "import dask.dataframe as dd\n",
    "import shutil\n",
    "from glob import glob\n"
   ]
  },
  {
   "cell_type": "markdown",
   "metadata": {},
   "source": [
    "### 2. Funções do Projeto para Importação dos Dados"
   ]
  },
  {
   "cell_type": "code",
   "execution_count": 2,
   "metadata": {},
   "outputs": [],
   "source": [
    "# Função para processar e salvar CSV como Parquet usando Dask\n",
    "def process_csv_with_dask(zip_file, zip_info, parquet_file, column_names):\n",
    "    \"\"\"\n",
    "    Lê um arquivo CSV extraído de um arquivo ZIP usando Dask e salva diretamente em um arquivo Parquet.\n",
    "    Recebe os nomes das colunas como parâmetros.\n",
    "    \"\"\"\n",
    "    try:\n",
    "        # Extrair o arquivo CSV para um local temporário\n",
    "        temp_csv_path = f\"./temp_{zip_info.filename}\"\n",
    "        \n",
    "        with zipfile.ZipFile(zip_file, 'r') as zip_ref:\n",
    "            with open(temp_csv_path, 'wb') as temp_file:\n",
    "                temp_file.write(zip_ref.read(zip_info.filename))\n",
    "\n",
    "        # Forçar todas as colunas a serem lidas como strings\n",
    "        df = dd.read_csv(temp_csv_path, sep=';', encoding='ISO-8859-1', dtype=str, header=None, on_bad_lines='skip')\n",
    "\n",
    "        # Definir os nomes das colunas dinamicamente\n",
    "        df.columns = column_names\n",
    "\n",
    "        # Converter diretamente para Parquet usando Dask\n",
    "        df.to_parquet(parquet_file, write_index=False)\n",
    "\n",
    "        print(f\"Dados gravados em {parquet_file} com sucesso.\")\n",
    "        \n",
    "        # Remover o arquivo temporário após o processamento\n",
    "        os.remove(temp_csv_path)\n",
    "    \n",
    "    except Exception as e:\n",
    "        print(f\"Erro ao processar {zip_info.filename}: {e}\")\n",
    "\n",
    "# Função para processar todos os arquivos .zip e gravar os CSVs em Parquet\n",
    "def process_all_files_with_dask(download_dir, output_dir, file_pattern, column_names, parquet_name):\n",
    "    \"\"\"\n",
    "    Processa todos os arquivos .zip encontrados no diretório de download, descompacta e converte os CSVs para Parquet.\n",
    "    Se o arquivo Parquet correspondente já existir, ele será deletado e recriado.\n",
    "    \"\"\"\n",
    "    # Define o caminho completo do arquivo Parquet de saída\n",
    "    parquet_file = os.path.join(output_dir, parquet_name + \".parquet\")\n",
    "\n",
    "    # Verifica se o arquivo Parquet já existe e deleta se necessário\n",
    "    if os.path.exists(parquet_file):\n",
    "        print(f\"O arquivo {parquet_file} já existe. Deletando...\")\n",
    "\n",
    "        # Se o arquivo for um diretório, use rmtree, senão remova o arquivo\n",
    "        if os.path.isdir(parquet_file):\n",
    "            shutil.rmtree(parquet_file)  # Deleta o diretório Parquet existente\n",
    "        else:\n",
    "            os.remove(parquet_file)  # Deleta o arquivo Parquet existente\n",
    "\n",
    "    # Usar glob para encontrar todos os arquivos zip que correspondem ao padrão\n",
    "    zip_files = glob(os.path.join(download_dir, '*.zip'))\n",
    "\n",
    "    for zip_file in zip_files:\n",
    "        try:\n",
    "            with zipfile.ZipFile(zip_file, 'r') as zip_ref:\n",
    "                for zip_info in zip_ref.infolist():\n",
    "                    # Verifica se o arquivo contém o padrão informado (file_pattern)\n",
    "                    if file_pattern in zip_info.filename:\n",
    "                        print(f\"Extraindo e convertendo {zip_info.filename} de {zip_file} para Parquet...\")\n",
    "\n",
    "                        # Processa o CSV com Dask usando os nomes de colunas dinamicamente\n",
    "                        process_csv_with_dask(zip_file, zip_info, parquet_file, column_names)\n",
    "\n",
    "        except zipfile.BadZipFile as e:\n",
    "            print(f\"Erro: {zip_file} não é um arquivo .zip válido. Ignorando...\")\n",
    "        except Exception as e:\n",
    "            print(f\"Erro ao processar {zip_file}: {e}\")\n"
   ]
  },
  {
   "cell_type": "markdown",
   "metadata": {},
   "source": [
    "### 3. Lista das Colunas das Tabelas"
   ]
  },
  {
   "cell_type": "code",
   "execution_count": 3,
   "metadata": {},
   "outputs": [],
   "source": [
    "# Definir os nomes das colunas para o arquivo EMPRESAS\n",
    "cols_empresas = [\n",
    "    'cnpj_basico',\n",
    "    'razao_social',\n",
    "    'natureza_juridica',\n",
    "    'qualificacao_responsavel',\n",
    "    'capital_social',\n",
    "    'porte',\n",
    "    'ente_federativo_responsavel'\n",
    "]\n",
    "\n",
    "# Colunas da Tabela \"Estabelecimentos\"\n",
    "cols_estabelecimentos = [\n",
    "    'cnpj_basico',\n",
    "    'cnpj_ordem',\n",
    "    'cnpj_dv',\n",
    "    'identificador_matriz_filial',\n",
    "    'nome_fantasia',\n",
    "    'situacao_cadastral',\n",
    "    'data_situacao_cadastral',\n",
    "    'motivo_situacao_cadastral',\n",
    "    'nome_cidade_exterior',\n",
    "    'pais',\n",
    "    'data_inicio_atividade',\n",
    "    'cnae_fiscal_principal',\n",
    "    'cnae_fiscal_secundaria',\n",
    "    'tipo_logradouro',\n",
    "    'logradouro',\n",
    "    'numero',\n",
    "    'complemento',\n",
    "    'bairro',\n",
    "    'cep',\n",
    "    'uf',\n",
    "    'municipio',\n",
    "    'ddd1',\n",
    "    'telefone1',\n",
    "    'ddd2',\n",
    "    'telefone2',\n",
    "    'ddd_fax',\n",
    "    'fax',\n",
    "    'email',\n",
    "    'situacao_especial',\n",
    "    'data_situacao_especial'\n",
    "]\n",
    "\n",
    "# Colunas da Tabela \"Socios\"\n",
    "cols_socios = [\n",
    "    'cnpj_basico',\n",
    "    'identificador_socio',\n",
    "    'nome_socio',\n",
    "    'cnpj_cpf_socio',\n",
    "    'qualificacao_socio',\n",
    "    'data_entrada_sociedade',\n",
    "    'pais',\n",
    "    'cpf_representante_legal',\n",
    "    'nome_representante',\n",
    "    'qualificacao_representante',\n",
    "    'faixa_etaria'\n",
    "]\n",
    "\n",
    "\n",
    "# Colunas da Tabela \"CNAE\"\n",
    "cols_cnae = [\n",
    "    'codigo',\n",
    "    'descricao'\n",
    "]\n",
    "\n",
    "# Colunas da Tabela \"Motivos\"\n",
    "cols_motivos = [\n",
    "    'codigo',\n",
    "    'descricao'\n",
    "]\n",
    "\n",
    "# Colunas da Tabela \"Municipios\"\n",
    "cols_municipios = [\n",
    "    'codigo',\n",
    "    'descricao'\n",
    "]\n",
    "\n",
    "# Colunas da Tabela \"Natureza Jurídica\"\n",
    "cols_natureza_juridica = [\n",
    "    'codigo',\n",
    "    'descricao'\n",
    "]\n",
    "\n",
    "# Colunas da Tabela \"Países\"\n",
    "cols_paises = [\n",
    "    'codigo',\n",
    "    'descricao'\n",
    "]\n",
    "\n",
    "# Colunas da Tabela \"Qualificações\"\n",
    "cols_qualificacoes = [\n",
    "    'codigo',\n",
    "    'descricao'\n",
    "]\n",
    "\n",
    "# Colunas da Tabela \"Simples Nacional\"\n",
    "cols_simples = [\n",
    "    'cnpj_basico',\n",
    "    'opcao_simples',\n",
    "    'data_opcao_simples',\n",
    "    'data_exclusao_simples',\n",
    "    'opcao_mei',\n",
    "    'data_opcao_mei',\n",
    "    'data_exclusao_mei'\n",
    "]\n"
   ]
  },
  {
   "cell_type": "markdown",
   "metadata": {},
   "source": [
    "### 4. Processamento das Arquivos CSV to Parquet"
   ]
  },
  {
   "cell_type": "code",
   "execution_count": 4,
   "metadata": {},
   "outputs": [
    {
     "name": "stdout",
     "output_type": "stream",
     "text": [
      "O arquivo ./parquets/empresas.parquet já existe. Deletando...\n",
      "Extraindo e convertendo K3241.K03200Y2.D40914.EMPRECSV de ./downloads/Empresas2.zip para Parquet...\n",
      "Dados gravados em ./parquets/empresas.parquet com sucesso.\n",
      "Extraindo e convertendo K3241.K03200Y3.D40914.EMPRECSV de ./downloads/Empresas3.zip para Parquet...\n",
      "Dados gravados em ./parquets/empresas.parquet com sucesso.\n",
      "Extraindo e convertendo K3241.K03200Y1.D40914.EMPRECSV de ./downloads/Empresas1.zip para Parquet...\n",
      "Dados gravados em ./parquets/empresas.parquet com sucesso.\n",
      "Extraindo e convertendo K3241.K03200Y0.D40914.EMPRECSV de ./downloads/Empresas0.zip para Parquet...\n",
      "Dados gravados em ./parquets/empresas.parquet com sucesso.\n",
      "Extraindo e convertendo K3241.K03200Y4.D40914.EMPRECSV de ./downloads/Empresas4.zip para Parquet...\n",
      "Dados gravados em ./parquets/empresas.parquet com sucesso.\n",
      "Extraindo e convertendo K3241.K03200Y5.D40914.EMPRECSV de ./downloads/Empresas5.zip para Parquet...\n",
      "Dados gravados em ./parquets/empresas.parquet com sucesso.\n",
      "Extraindo e convertendo K3241.K03200Y7.D40914.EMPRECSV de ./downloads/Empresas7.zip para Parquet...\n",
      "Dados gravados em ./parquets/empresas.parquet com sucesso.\n",
      "Extraindo e convertendo K3241.K03200Y6.D40914.EMPRECSV de ./downloads/Empresas6.zip para Parquet...\n",
      "Dados gravados em ./parquets/empresas.parquet com sucesso.\n",
      "Extraindo e convertendo K3241.K03200Y8.D40914.EMPRECSV de ./downloads/Empresas8.zip para Parquet...\n",
      "Dados gravados em ./parquets/empresas.parquet com sucesso.\n",
      "Extraindo e convertendo K3241.K03200Y9.D40914.EMPRECSV de ./downloads/Empresas9.zip para Parquet...\n",
      "Dados gravados em ./parquets/empresas.parquet com sucesso.\n"
     ]
    }
   ],
   "source": [
    "# Processar todos os arquivos de EMPRESAS\n",
    "process_all_files_with_dask(\n",
    "    download_dir='./downloads/',    # Diretório onde os arquivos zip estão\n",
    "    output_dir='./parquets/',       # Diretório de saída para os Parquet\n",
    "    file_pattern='EMPRECSV',        # Padrão para encontrar os arquivos específicos\n",
    "    column_names=cols_empresas,  # Nomes das colunas\n",
    "    parquet_name='empresas'              # Nome do arquivo Parquet de saída\n",
    ")\n"
   ]
  },
  {
   "cell_type": "code",
   "execution_count": 5,
   "metadata": {},
   "outputs": [
    {
     "name": "stdout",
     "output_type": "stream",
     "text": [
      "O arquivo ./parquets/socios.parquet já existe. Deletando...\n",
      "Extraindo e convertendo K3241.K03200Y4.D40914.SOCIOCSV de ./downloads/Socios4.zip para Parquet...\n",
      "Dados gravados em ./parquets/socios.parquet com sucesso.\n",
      "Extraindo e convertendo K3241.K03200Y5.D40914.SOCIOCSV de ./downloads/Socios5.zip para Parquet...\n",
      "Dados gravados em ./parquets/socios.parquet com sucesso.\n",
      "Extraindo e convertendo K3241.K03200Y7.D40914.SOCIOCSV de ./downloads/Socios7.zip para Parquet...\n",
      "Dados gravados em ./parquets/socios.parquet com sucesso.\n",
      "Extraindo e convertendo K3241.K03200Y6.D40914.SOCIOCSV de ./downloads/Socios6.zip para Parquet...\n",
      "Dados gravados em ./parquets/socios.parquet com sucesso.\n",
      "Extraindo e convertendo K3241.K03200Y2.D40914.SOCIOCSV de ./downloads/Socios2.zip para Parquet...\n",
      "Dados gravados em ./parquets/socios.parquet com sucesso.\n",
      "Extraindo e convertendo K3241.K03200Y3.D40914.SOCIOCSV de ./downloads/Socios3.zip para Parquet...\n",
      "Dados gravados em ./parquets/socios.parquet com sucesso.\n",
      "Extraindo e convertendo K3241.K03200Y1.D40914.SOCIOCSV de ./downloads/Socios1.zip para Parquet...\n",
      "Dados gravados em ./parquets/socios.parquet com sucesso.\n",
      "Extraindo e convertendo K3241.K03200Y0.D40914.SOCIOCSV de ./downloads/Socios0.zip para Parquet...\n",
      "Dados gravados em ./parquets/socios.parquet com sucesso.\n",
      "Extraindo e convertendo K3241.K03200Y8.D40914.SOCIOCSV de ./downloads/Socios8.zip para Parquet...\n",
      "Dados gravados em ./parquets/socios.parquet com sucesso.\n",
      "Extraindo e convertendo K3241.K03200Y9.D40914.SOCIOCSV de ./downloads/Socios9.zip para Parquet...\n",
      "Dados gravados em ./parquets/socios.parquet com sucesso.\n"
     ]
    }
   ],
   "source": [
    "# Processar todos os arquivos de SOCIOS\n",
    "process_all_files_with_dask(\n",
    "    download_dir='./downloads/',    # Diretório onde os arquivos zip estão\n",
    "    output_dir='./parquets/',       # Diretório de saída para os Parquet\n",
    "    file_pattern='SOCIOCSV',        # Padrão para encontrar os arquivos específicos\n",
    "    column_names=cols_socios,       # Nomes das colunas\n",
    "    parquet_name='socios'           # Nome do arquivo Parquet de saída\n",
    ")"
   ]
  },
  {
   "cell_type": "code",
   "execution_count": 6,
   "metadata": {},
   "outputs": [
    {
     "name": "stdout",
     "output_type": "stream",
     "text": [
      "O arquivo ./parquets/estabelecimentos.parquet já existe. Deletando...\n",
      "Extraindo e convertendo K3241.K03200Y4.D40914.ESTABELE de ./downloads/Estabelecimentos4.zip para Parquet...\n",
      "Dados gravados em ./parquets/estabelecimentos.parquet com sucesso.\n",
      "Extraindo e convertendo K3241.K03200Y5.D40914.ESTABELE de ./downloads/Estabelecimentos5.zip para Parquet...\n",
      "Dados gravados em ./parquets/estabelecimentos.parquet com sucesso.\n",
      "Extraindo e convertendo K3241.K03200Y7.D40914.ESTABELE de ./downloads/Estabelecimentos7.zip para Parquet...\n",
      "Dados gravados em ./parquets/estabelecimentos.parquet com sucesso.\n",
      "Extraindo e convertendo K3241.K03200Y6.D40914.ESTABELE de ./downloads/Estabelecimentos6.zip para Parquet...\n",
      "Dados gravados em ./parquets/estabelecimentos.parquet com sucesso.\n",
      "Extraindo e convertendo K3241.K03200Y2.D40914.ESTABELE de ./downloads/Estabelecimentos2.zip para Parquet...\n",
      "Dados gravados em ./parquets/estabelecimentos.parquet com sucesso.\n",
      "Extraindo e convertendo K3241.K03200Y3.D40914.ESTABELE de ./downloads/Estabelecimentos3.zip para Parquet...\n",
      "Dados gravados em ./parquets/estabelecimentos.parquet com sucesso.\n",
      "Extraindo e convertendo K3241.K03200Y1.D40914.ESTABELE de ./downloads/Estabelecimentos1.zip para Parquet...\n",
      "Dados gravados em ./parquets/estabelecimentos.parquet com sucesso.\n",
      "Extraindo e convertendo K3241.K03200Y0.D40914.ESTABELE de ./downloads/Estabelecimentos0.zip para Parquet...\n",
      "Dados gravados em ./parquets/estabelecimentos.parquet com sucesso.\n",
      "Extraindo e convertendo K3241.K03200Y8.D40914.ESTABELE de ./downloads/Estabelecimentos8.zip para Parquet...\n",
      "Dados gravados em ./parquets/estabelecimentos.parquet com sucesso.\n",
      "Extraindo e convertendo K3241.K03200Y9.D40914.ESTABELE de ./downloads/Estabelecimentos9.zip para Parquet...\n",
      "Dados gravados em ./parquets/estabelecimentos.parquet com sucesso.\n"
     ]
    }
   ],
   "source": [
    "# Processar todos os arquivos de ESTABELECIMENTOS\n",
    "process_all_files_with_dask(\n",
    "    download_dir='./downloads/',              # Diretório onde os arquivos zip estão\n",
    "    output_dir='./parquets/',                 # Diretório de saída para os Parquet\n",
    "    file_pattern='ESTABELE',                  # Padrão para encontrar os arquivos específicos\n",
    "    column_names=cols_estabelecimentos,       # Nomes das colunas\n",
    "    parquet_name='estabelecimentos'           # Nome do arquivo Parquet de saída\n",
    ")"
   ]
  },
  {
   "cell_type": "code",
   "execution_count": 7,
   "metadata": {},
   "outputs": [
    {
     "name": "stdout",
     "output_type": "stream",
     "text": [
      "O arquivo ./parquets/cnae.parquet já existe. Deletando...\n",
      "Extraindo e convertendo F.K03200$Z.D40914.CNAECSV de ./downloads/Cnaes.zip para Parquet...\n",
      "Dados gravados em ./parquets/cnae.parquet com sucesso.\n"
     ]
    }
   ],
   "source": [
    "# Processar todos os arquivos de CNAE\n",
    "process_all_files_with_dask(\n",
    "    download_dir='./downloads/',              # Diretório onde os arquivos zip estão\n",
    "    output_dir='./parquets/',                 # Diretório de saída para os Parquet\n",
    "    file_pattern='CNAECSV',                   # Padrão para encontrar os arquivos específicos\n",
    "    column_names=cols_cnae,                   # Nomes das colunas\n",
    "    parquet_name='cnae'                       # Nome do arquivo Parquet de saída\n",
    ")"
   ]
  },
  {
   "cell_type": "code",
   "execution_count": 8,
   "metadata": {},
   "outputs": [
    {
     "name": "stdout",
     "output_type": "stream",
     "text": [
      "O arquivo ./parquets/simples.parquet já existe. Deletando...\n",
      "Extraindo e convertendo F.K03200$W.SIMPLES.CSV.D40914 de ./downloads/Simples.zip para Parquet...\n",
      "Dados gravados em ./parquets/simples.parquet com sucesso.\n"
     ]
    }
   ],
   "source": [
    "# Processar todos os arquivos de SIMPLES\n",
    "process_all_files_with_dask(\n",
    "    download_dir='./downloads/',              # Diretório onde os arquivos zip estão\n",
    "    output_dir='./parquets/',                 # Diretório de saída para os Parquet\n",
    "    file_pattern='SIMPLES',                   # Padrão para encontrar os arquivos específicos\n",
    "    column_names=cols_simples,                # Nomes das colunas\n",
    "    parquet_name='simples'                    # Nome do arquivo Parquet de saída\n",
    ")"
   ]
  },
  {
   "cell_type": "code",
   "execution_count": 9,
   "metadata": {},
   "outputs": [
    {
     "name": "stdout",
     "output_type": "stream",
     "text": [
      "O arquivo ./parquets/municipios.parquet já existe. Deletando...\n",
      "Extraindo e convertendo F.K03200$Z.D40914.MUNICCSV de ./downloads/Municipios.zip para Parquet...\n",
      "Dados gravados em ./parquets/municipios.parquet com sucesso.\n"
     ]
    }
   ],
   "source": [
    "# Processar todos os arquivos de MUNICIPIOS\n",
    "process_all_files_with_dask(\n",
    "    download_dir='./downloads/',              # Diretório onde os arquivos zip estão\n",
    "    output_dir='./parquets/',                 # Diretório de saída para os Parquet\n",
    "    file_pattern='MUNICCSV',                  # Padrão para encontrar os arquivos específicos\n",
    "    column_names=cols_municipios,             # Nomes das colunas\n",
    "    parquet_name='municipios'                 # Nome do arquivo Parquet de saída\n",
    ")"
   ]
  },
  {
   "cell_type": "code",
   "execution_count": 10,
   "metadata": {},
   "outputs": [
    {
     "name": "stdout",
     "output_type": "stream",
     "text": [
      "O arquivo ./parquets/motivos.parquet já existe. Deletando...\n",
      "Extraindo e convertendo F.K03200$Z.D40914.MOTICSV de ./downloads/Motivos.zip para Parquet...\n",
      "Dados gravados em ./parquets/motivos.parquet com sucesso.\n"
     ]
    }
   ],
   "source": [
    "# Processar todos os arquivos de MOTIVOS\n",
    "process_all_files_with_dask(\n",
    "    download_dir='./downloads/',              # Diretório onde os arquivos zip estão\n",
    "    output_dir='./parquets/',                 # Diretório de saída para os Parquet\n",
    "    file_pattern='MOTICSV',                   # Padrão para encontrar os arquivos específicos\n",
    "    column_names=cols_motivos,                # Nomes das colunas\n",
    "    parquet_name='motivos'                    # Nome do arquivo Parquet de saída\n",
    ")"
   ]
  },
  {
   "cell_type": "code",
   "execution_count": 11,
   "metadata": {},
   "outputs": [
    {
     "name": "stdout",
     "output_type": "stream",
     "text": [
      "O arquivo ./parquets/natjuridicas.parquet já existe. Deletando...\n",
      "Extraindo e convertendo F.K03200$Z.D40914.NATJUCSV de ./downloads/Naturezas.zip para Parquet...\n",
      "Dados gravados em ./parquets/natjuridicas.parquet com sucesso.\n"
     ]
    }
   ],
   "source": [
    "# Processar todos os arquivos de NATUREZA JURIDICA\n",
    "process_all_files_with_dask(\n",
    "    download_dir='./downloads/',              # Diretório onde os arquivos zip estão\n",
    "    output_dir='./parquets/',                 # Diretório de saída para os Parquet\n",
    "    file_pattern='NATJUCSV',                  # Padrão para encontrar os arquivos específicos\n",
    "    column_names=cols_natureza_juridica,      # Nomes das colunas\n",
    "    parquet_name='natjuridicas'               # Nome do arquivo Parquet de saída\n",
    ")"
   ]
  },
  {
   "cell_type": "code",
   "execution_count": 12,
   "metadata": {},
   "outputs": [
    {
     "name": "stdout",
     "output_type": "stream",
     "text": [
      "O arquivo ./parquets/paises.parquet já existe. Deletando...\n",
      "Extraindo e convertendo F.K03200$Z.D40914.PAISCSV de ./downloads/Paises.zip para Parquet...\n",
      "Dados gravados em ./parquets/paises.parquet com sucesso.\n"
     ]
    }
   ],
   "source": [
    "\n",
    "# Processar todos os arquivos de PAISES\n",
    "process_all_files_with_dask(\n",
    "    download_dir='./downloads/',              # Diretório onde os arquivos zip estão\n",
    "    output_dir='./parquets/',                 # Diretório de saída para os Parquet\n",
    "    file_pattern='PAISCSV',                   # Padrão para encontrar os arquivos específicos\n",
    "    column_names=cols_paises,                 # Nomes das colunas\n",
    "    parquet_name='paises'                     # Nome do arquivo Parquet de saída\n",
    ")"
   ]
  },
  {
   "cell_type": "code",
   "execution_count": 13,
   "metadata": {},
   "outputs": [
    {
     "name": "stdout",
     "output_type": "stream",
     "text": [
      "O arquivo ./parquets/qualificacoes.parquet já existe. Deletando...\n",
      "Extraindo e convertendo F.K03200$Z.D40914.QUALSCSV de ./downloads/Qualificacoes.zip para Parquet...\n",
      "Dados gravados em ./parquets/qualificacoes.parquet com sucesso.\n"
     ]
    }
   ],
   "source": [
    "# Processar todos os arquivos de QUALIFICACOES\n",
    "process_all_files_with_dask(\n",
    "    download_dir='./downloads/',              # Diretório onde os arquivos zip estão\n",
    "    output_dir='./parquets/',                 # Diretório de saída para os Parquet\n",
    "    file_pattern='QUALSCSV',                  # Padrão para encontrar os arquivos específicos\n",
    "    column_names=cols_qualificacoes,          # Nomes das colunas\n",
    "    parquet_name='qualificacoes'              # Nome do arquivo Parquet de saída\n",
    ")\n"
   ]
  }
 ],
 "metadata": {
  "kernelspec": {
   "display_name": "myenv",
   "language": "python",
   "name": "python3"
  },
  "language_info": {
   "codemirror_mode": {
    "name": "ipython",
    "version": 3
   },
   "file_extension": ".py",
   "mimetype": "text/x-python",
   "name": "python",
   "nbconvert_exporter": "python",
   "pygments_lexer": "ipython3",
   "version": "3.11.9"
  }
 },
 "nbformat": 4,
 "nbformat_minor": 2
}
